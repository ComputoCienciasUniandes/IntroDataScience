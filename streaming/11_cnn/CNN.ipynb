{
  "nbformat": 4,
  "nbformat_minor": 0,
  "metadata": {
    "colab": {
      "name": "CNN.ipynb",
      "provenance": [],
      "collapsed_sections": []
    },
    "kernelspec": {
      "name": "python3",
      "display_name": "Python 3"
    },
    "language_info": {
      "name": "python"
    }
  },
  "cells": [
    {
      "cell_type": "markdown",
      "source": [
        "# Redes Neuronales Convolucionales\n",
        "\n",
        "Una red neuronal convolucional CNN es una de las ANN más comunes y usadas actualmente. Este tipo de red es una variación de un MLP, sin embargo, debido a que su aplicación es realizada en matrices bidimensionales, son muy efectivas para tareas de visión por computador, especificamente en tareas de clasificación y segmentación de imágenes.\n",
        "\n",
        "![](https://miro.medium.com/max/1200/1*3DUs-90altOgaBcVJ9LTGg.png)"
      ],
      "metadata": {
        "id": "QMJEx35XYMny"
      }
    },
    {
      "cell_type": "code",
      "source": [
        "import pandas as pd\n",
        "import numpy as np\n",
        "import matplotlib.pyplot as plt"
      ],
      "metadata": {
        "id": "NN2GOxTWYNjk"
      },
      "execution_count": 1,
      "outputs": []
    },
    {
      "cell_type": "code",
      "source": [
        "# Cargar los datos\n",
        "from sklearn.datasets import load_digits\n",
        "digits = load_digits()"
      ],
      "metadata": {
        "id": "ViCIljMEYZVi"
      },
      "execution_count": 2,
      "outputs": []
    },
    {
      "cell_type": "code",
      "source": [
        "digits.keys()"
      ],
      "metadata": {
        "colab": {
          "base_uri": "https://localhost:8080/"
        },
        "id": "iqdvnkVOYa96",
        "outputId": "3d524bad-1c48-4178-c53b-440a8850b17b"
      },
      "execution_count": 3,
      "outputs": [
        {
          "output_type": "execute_result",
          "data": {
            "text/plain": [
              "dict_keys(['data', 'target', 'frame', 'feature_names', 'target_names', 'images', 'DESCR'])"
            ]
          },
          "metadata": {},
          "execution_count": 3
        }
      ]
    },
    {
      "cell_type": "code",
      "source": [
        "# Visualizar datos\n",
        "print(digits['images'][0], np.shape(digits['images'][0]))\n",
        "plt.imshow(digits['images'][0])"
      ],
      "metadata": {
        "colab": {
          "base_uri": "https://localhost:8080/",
          "height": 421
        },
        "id": "biUiFOmOYclB",
        "outputId": "ce2cca82-b4bb-4e40-e043-1007714907c7"
      },
      "execution_count": 4,
      "outputs": [
        {
          "output_type": "stream",
          "name": "stdout",
          "text": [
            "[[ 0.  0.  5. 13.  9.  1.  0.  0.]\n",
            " [ 0.  0. 13. 15. 10. 15.  5.  0.]\n",
            " [ 0.  3. 15.  2.  0. 11.  8.  0.]\n",
            " [ 0.  4. 12.  0.  0.  8.  8.  0.]\n",
            " [ 0.  5.  8.  0.  0.  9.  8.  0.]\n",
            " [ 0.  4. 11.  0.  1. 12.  7.  0.]\n",
            " [ 0.  2. 14.  5. 10. 12.  0.  0.]\n",
            " [ 0.  0.  6. 13. 10.  0.  0.  0.]] (8, 8)\n"
          ]
        },
        {
          "output_type": "execute_result",
          "data": {
            "text/plain": [
              "<matplotlib.image.AxesImage at 0x7f53e702fb10>"
            ]
          },
          "metadata": {},
          "execution_count": 4
        },
        {
          "output_type": "display_data",
          "data": {
            "text/plain": [
              "<Figure size 432x288 with 1 Axes>"
            ],
            "image/png": "[encoded data removed]"
          },
          "metadata": {
            "needs_background": "light"
          }
        }
      ]
    },
    {
      "cell_type": "code",
      "source": [
        "X = digits['images']\n",
        "Y = digits['target']"
      ],
      "metadata": {
        "id": "AHHFbOcuYegt"
      },
      "execution_count": 5,
      "outputs": []
    },
    {
      "cell_type": "code",
      "source": [
        "# Visualizar los datos\n",
        "_ = plt.hist(Y)\n",
        "plt.ylabel('Counts')\n",
        "plt.xlabel('Label')\n",
        "plt.show()"
      ],
      "metadata": {
        "colab": {
          "base_uri": "https://localhost:8080/",
          "height": 279
        },
        "id": "7_mbrf-0YgJu",
        "outputId": "37297689-83d4-472a-96a3-41644616a38e"
      },
      "execution_count": 6,
      "outputs": [
        {
          "output_type": "display_data",
          "data": {
            "text/plain": [
              "<Figure size 432x288 with 1 Axes>"
            ],
            "image/png": "[encoded data removed]"
          },
          "metadata": {
            "needs_background": "light"
          }
        }
      ]
    },
    {
      "cell_type": "code",
      "source": [
        "# Separar los datos entre entrenamiento y testeo\n",
        "from sklearn.model_selection import train_test_split\n",
        "\n",
        "X_train, X_test, Y_train, Y_test = train_test_split(X,Y)"
      ],
      "metadata": {
        "id": "G2I-gJwhYhzP"
      },
      "execution_count": 7,
      "outputs": []
    },
    {
      "cell_type": "code",
      "source": [
        "# Visualizar los datos\n",
        "_ = plt.hist(Y_test)\n",
        "plt.ylabel('Counts')\n",
        "plt.xlabel('Label Y_test')\n",
        "plt.show()"
      ],
      "metadata": {
        "colab": {
          "base_uri": "https://localhost:8080/",
          "height": 280
        },
        "id": "HQ5QNYzGYjqD",
        "outputId": "d8ee4349-36cc-4892-c92a-db274574ac00"
      },
      "execution_count": 8,
      "outputs": [
        {
          "output_type": "display_data",
          "data": {
            "text/plain": [
              "<Figure size 432x288 with 1 Axes>"
            ],
            "image/png": "[encoded data removed]"
          },
          "metadata": {
            "needs_background": "light"
          }
        }
      ]
    },
    {
      "cell_type": "code",
      "source": [
        "#-- Visualizamos los datos\n",
        "fig = plt.figure(figsize=(6,6))\n",
        "for i in range(4):\n",
        "    plt.subplot(2,2,i+1)\n",
        "    plt.imshow(X_test[i*15])\n",
        "    plt.title(Y_test[i*15])\n",
        "    plt.axis(False)\n",
        "plt.show()"
      ],
      "metadata": {
        "colab": {
          "base_uri": "https://localhost:8080/",
          "height": 373
        },
        "id": "akOovXAgYlTc",
        "outputId": "ae8b9db9-9a73-4494-e1f4-6908e69b38c3"
      },
      "execution_count": 9,
      "outputs": [
        {
          "output_type": "display_data",
          "data": {
            "text/plain": [
              "<Figure size 432x432 with 4 Axes>"
            ],
            "image/png": "[encoded data removed]"
          },
          "metadata": {
            "needs_background": "light"
          }
        }
      ]
    },
    {
      "cell_type": "markdown",
      "source": [
        "# Capas de una CNN\n",
        "\n",
        "\n",
        "#Capas Convolucionales\n",
        "\n",
        "A diferencia de las capas densamente conectadas (**Linear**) las redes convolucionales se componen principalmente de capas de convolución que reciben como parámetro de entrada el número de canales que componen el mapa bidimensional (en el caso de la primera capa convolucional es la imagen original). Para imágenes en escala de gris, en numero de canales es 1. En el caso de imágenes a color se podría tratar de 3 (RGB) o 4 (RGBA) canales. La salida de una capa convolucional son un número de canales seleccionado. Cada canal tiene un mapa de características asociado y se obtiene al aplicar un kernel (filtro) sobre el mapa de entrada.\n",
        "\n",
        "## Kernel \n",
        "**Ejemplo**: \n",
        "\n",
        "* *Input (x)*: 3x3\n",
        "* *Kernel (w)*: 2x2\n",
        "* *Output (z)*: 2x2\n",
        "\n",
        "El kernel hace una convolución por toda la imagen, de izquierda a derecha y de arriba a abajo, de modo que la salida es un mapa de características bidimensional donde en valor de cada entrada del mapa corresponde al producto $w*x$. Así por ejemplo, 0x0+ 1x1 + 2x3 + 4x3 = 19.\n",
        "\n",
        "![](https://classic.d2l.ai/_images/correlation.svg)\n",
        "\n",
        "Los kernel son definidos aleatoriamente por Pytorch, sin embargo, es posible pasarle un filtro específico para efectuar la convolución.\n",
        "\n",
        "## Padding\n",
        "\n",
        "De acuerdo al ejemplo de la imagen anterior al realizar la convolución, el tamaño del mapa de salida es menor que el tamaño del de entrada. Para evitar esta perdida de información en los bordes se puede utilizar el parametro *padding*. Este parámetro agrega información en los bordes, de modo que al pasar el kernel sobre todo el mapa, se recupera el tamaño inicial. El contenido de estos bordes extra depende del parámetro *padding_mode*, que toma por defecto el valor 'zeros'. En la imagen de ejemplo se aplica un padding igual a 1 y se utilizan ceros como valores por defecto. Más infromación [aquí](https://pytorch.org/docs/stable/generated/torch.nn.Conv2d.html).\n",
        "\n",
        "![](https://classic.d2l.ai/_images/conv-pad.svg)\n",
        "\n",
        "\n",
        "## Stride\n",
        "\n",
        "Otro parámetro importante en la capa convolucional es el espacio entre cada aplicación del kernel, el kernel por defecto y luego de ejecutado, salta hacia la derecha un paso. Cuando termina horizontalmente, hace un salto vertical arrancando nuevamente desde la izquierda, así hasta barrer toda la imagen. \n",
        "El valor de estos saltos horizontales y verticales se puede definir usando el parámetro *stride*. En la imagen de ejemplo se aplica un stride de la forma (2,3), dando como resultado una salida de tamaño 2x2. \n",
        "\n",
        "![](https://classic.d2l.ai/_images/conv-stride.svg)\n",
        "\n",
        "\n",
        "# Max Pooling y Global Average Pooling\n",
        "\n",
        "La idea detrás de la técnica *Pooling* es perder resolución en la imagen para obtener las características más representativas de la imagen. El *max pooling* consiste en tomar el valor máximo de un kernel de *pooling* proyectándolo en el mapa de salida. Una variedad de este método consiste en tomar el promedio global del kernel y no el máximo. El uso de técnicas de *pooling* se sustenta también en la disminución del número de características en la red.\n",
        "\n",
        "![](https://classic.d2l.ai/_images/pooling.svg)\n",
        "\n",
        "# Calculo del número de características \n",
        "\n",
        "Para calcular el tamaño de los mapas de características y el número total de característica de la red se usa la siguiente ecuación.\n",
        "\n",
        "$$\\large{ \\frac{W - F + 2P}{S} + 1 }$$\n",
        "\n",
        "Donde $W$ es el tamaño del ancho del mapa de características, $F$ el tamaño del kernel, $P$ el valor de padding y $S$ el valor del stride. De esta forma y utilizando la ecuación anterior en cada capa se puede controlar el tamaño de características en cada capa.\n",
        "\n",
        "_(Imágenes tomadas de: Dive into Deep Learning - Aston Zhang, Zachary C. Lipton, Mu Li, and Alexander J. Smola)_\n",
        "\n",
        "# Dropout\n",
        "\n",
        "Durante el entrenamiento es posible convertir algunos pesos en nulos, de modo que la red no aprenda las mismas conexiones en cada entrenamiento, si no que trate de encontrar diferentes caminos dentro de la red y así garantizar un aprendizaje más general.\n",
        "\n",
        "Esta es una técnica de regularización que previene la adaptación de las neuronas.\n",
        "\n",
        "\n",
        "![](https://www.researchgate.net/publication/336754568/figure/fig3/AS:817383757328385@1571890882529/The-difference-between-standard-NN-and-Dropout-NN-53-Dropout-method-randomly-drops.ppm)"
      ],
      "metadata": {
        "id": "deV3O5AgZVaf"
      }
    },
    {
      "cell_type": "code",
      "source": [
        "import torch"
      ],
      "metadata": {
        "id": "LFc2JFiHdRoc"
      },
      "execution_count": 10,
      "outputs": []
    },
    {
      "cell_type": "code",
      "source": [
        "np.shape(X_train)"
      ],
      "metadata": {
        "colab": {
          "base_uri": "https://localhost:8080/"
        },
        "id": "aHTMfjHTgfsz",
        "outputId": "f73c9449-3e8f-4dbd-ed18-dc3dc223e16f"
      },
      "execution_count": 11,
      "outputs": [
        {
          "output_type": "execute_result",
          "data": {
            "text/plain": [
              "(1347, 8, 8)"
            ]
          },
          "metadata": {},
          "execution_count": 11
        }
      ]
    },
    {
      "cell_type": "code",
      "source": [
        "#--- Definimos la CNN\n",
        "\n",
        "model = torch.nn.Sequential(\n",
        "  torch.nn.Conv2d(1, 16, kernel_size=2, stride=1, padding=2),\n",
        "  # ( (8-2+2*2)/1 ) + 1 = 11   -> 11*11*16\n",
        "\n",
        "  torch.nn.ReLU(),\n",
        "\n",
        "  torch.nn.MaxPool2d(kernel_size=2),\n",
        "  # 11/2 = 5                 -> 5*5*16\n",
        "\n",
        "  torch.nn.Dropout(p=0.2),\n",
        "\n",
        "  torch.nn.Conv2d(16, 32, kernel_size=3, stride=1, padding=2),\n",
        "  # ( (5-3+2*2)/1 ) + 1 = 7   -> 7*7*32\n",
        "\n",
        "  torch.nn.ReLU(),\n",
        "\n",
        "  torch.nn.MaxPool2d(kernel_size=2),\n",
        "  # 7/2 = 3                 -> 3*3*32\n",
        "\n",
        "  torch.nn.Dropout(p=0.2), \n",
        "\n",
        "  torch.nn.Flatten(),\n",
        "  torch.nn.Linear(3*3*32, 10)\n",
        ")\n",
        "model"
      ],
      "metadata": {
        "colab": {
          "base_uri": "https://localhost:8080/"
        },
        "id": "zew8bTCZZWkJ",
        "outputId": "9d1afd75-1d4b-4e9e-dbb5-a99d46023de8"
      },
      "execution_count": 12,
      "outputs": [
        {
          "output_type": "execute_result",
          "data": {
            "text/plain": [
              "Sequential(\n",
              "  (0): Conv2d(1, 16, kernel_size=(2, 2), stride=(1, 1), padding=(2, 2))\n",
              "  (1): ReLU()\n",
              "  (2): MaxPool2d(kernel_size=2, stride=2, padding=0, dilation=1, ceil_mode=False)\n",
              "  (3): Dropout(p=0.2, inplace=False)\n",
              "  (4): Conv2d(16, 32, kernel_size=(3, 3), stride=(1, 1), padding=(2, 2))\n",
              "  (5): ReLU()\n",
              "  (6): MaxPool2d(kernel_size=2, stride=2, padding=0, dilation=1, ceil_mode=False)\n",
              "  (7): Dropout(p=0.2, inplace=False)\n",
              "  (8): Flatten(start_dim=1, end_dim=-1)\n",
              "  (9): Linear(in_features=288, out_features=10, bias=True)\n",
              ")"
            ]
          },
          "metadata": {},
          "execution_count": 12
        }
      ]
    },
    {
      "cell_type": "code",
      "source": [
        "#-- Después de activar el entorno GPU se selecciona el dispositivo\n",
        "\n",
        "device = torch.device(\"cuda:0\" if torch.cuda.is_available() else \"cpu\")\n",
        "print(device)"
      ],
      "metadata": {
        "colab": {
          "base_uri": "https://localhost:8080/"
        },
        "id": "-Dauu7GGccJU",
        "outputId": "f12bed1a-741d-41d5-ec6c-d5655dcbede0"
      },
      "execution_count": 13,
      "outputs": [
        {
          "output_type": "stream",
          "name": "stdout",
          "text": [
            "cpu\n"
          ]
        }
      ]
    },
    {
      "cell_type": "code",
      "source": [
        "#--- Definimos los criterios de evaluación y el optmizador\n",
        "\n",
        "criterion = torch.nn.CrossEntropyLoss()\n",
        "optimizer = torch.optim.Adam(model.parameters(), lr = 0.001, weight_decay=0.1)"
      ],
      "metadata": {
        "id": "05E_JRY6cBef"
      },
      "execution_count": 14,
      "outputs": []
    },
    {
      "cell_type": "code",
      "source": [
        "# !pip install hiddenlayer"
      ],
      "metadata": {
        "id": "EMCdWLbYcB4z"
      },
      "execution_count": 15,
      "outputs": []
    },
    {
      "cell_type": "code",
      "source": [
        "#--- Visualizamos la estructura de nuestra CNN\n",
        "\n",
        "import hiddenlayer as hl\n",
        "\n",
        "hl.build_graph(model, torch.zeros([16,1,8,8]))"
      ],
      "metadata": {
        "colab": {
          "base_uri": "https://localhost:8080/",
          "height": 220
        },
        "id": "v8qGa17AcD3-",
        "outputId": "3a00efb2-fcf4-40e1-fe48-b8034c5d9e60"
      },
      "execution_count": 16,
      "outputs": [
        {
          "output_type": "stream",
          "name": "stderr",
          "text": [
            "/usr/local/lib/python3.7/dist-packages/torch/onnx/symbolic_opset9.py:1672: UserWarning: Dropout is a training op and should not be exported in inference mode. For inference, make sure to call eval() on the model and to export it with param training=False.\n",
            "  warnings.warn(\"Dropout is a training op and should not be exported in inference mode. \"\n"
          ]
        },
        {
          "output_type": "execute_result",
          "data": {
            "text/plain": [
              "<hiddenlayer.graph.Graph at 0x7f532cf010d0>"
            ],
            "image/svg+xml": "<?xml version=\"1.0\" encoding=\"UTF-8\" standalone=\"no\"?>\n<!DOCTYPE svg PUBLIC \"-//W3C//DTD SVG 1.1//EN\"\n \"http://www.w3.org/Graphics/SVG/1.1/DTD/svg11.dtd\">\n<!-- Generated by graphviz version 2.40.1 (20161225.0304)\n -->\n<!-- Title: %3 Pages: 1 -->\n<svg width=\"920pt\" height=\"108pt\"\n viewBox=\"0.00 0.00 920.00 108.00\" xmlns=\"http://www.w3.org/2000/svg\" xmlns:xlink=\"http://www.w3.org/1999/xlink\">\n<g id=\"graph0\" class=\"graph\" transform=\"scale(1 1) rotate(0) translate(72 72)\">\n<title>%3</title>\n<polygon fill=\"#ffffff\" stroke=\"transparent\" points=\"-72,36 -72,-72 848,-72 848,36 -72,36\"/>\n<!-- /outputs/9 -->\n<g id=\"node1\" class=\"node\">\n<title>/outputs/9</title>\n<polygon fill=\"#e8e8e8\" stroke=\"#000000\" points=\"190,-36 120,-36 120,0 190,0 190,-36\"/>\n<text text-anchor=\"start\" x=\"128\" y=\"-15\" font-family=\"Times\" font-size=\"10.00\" fill=\"#000000\">MaxPool2x2</text>\n</g>\n<!-- /outputs/10/11 -->\n<g id=\"node2\" class=\"node\">\n<title>/outputs/10/11</title>\n<polygon fill=\"#e8e8e8\" stroke=\"#000000\" points=\"280,-36 226,-36 226,0 280,0 280,-36\"/>\n<text text-anchor=\"start\" x=\"236\" y=\"-15\" font-family=\"Times\" font-size=\"10.00\" fill=\"#000000\">Dropout</text>\n</g>\n<!-- /outputs/9&#45;&gt;/outputs/10/11 -->\n<g id=\"edge1\" class=\"edge\">\n<title>/outputs/9&#45;&gt;/outputs/10/11</title>\n<path fill=\"none\" stroke=\"#000000\" d=\"M190.1034,-18C198.3675,-18 207.2064,-18 215.5686,-18\"/>\n<polygon fill=\"#000000\" stroke=\"#000000\" points=\"215.8266,-21.5001 225.8266,-18 215.8266,-14.5001 215.8266,-21.5001\"/>\n</g>\n<!-- 6221580927685953520 -->\n<g id=\"node8\" class=\"node\">\n<title>6221580927685953520</title>\n<polygon fill=\"#e8e8e8\" stroke=\"#000000\" points=\"400,-36 316,-36 316,0 400,0 400,-36\"/>\n<text text-anchor=\"start\" x=\"324\" y=\"-15\" font-family=\"Times\" font-size=\"10.00\" fill=\"#000000\">Conv3x3 &gt; Relu</text>\n</g>\n<!-- /outputs/10/11&#45;&gt;6221580927685953520 -->\n<g id=\"edge6\" class=\"edge\">\n<title>/outputs/10/11&#45;&gt;6221580927685953520</title>\n<path fill=\"none\" stroke=\"#000000\" d=\"M280.0401,-18C287.9868,-18 296.9603,-18 305.9177,-18\"/>\n<polygon fill=\"#000000\" stroke=\"#000000\" points=\"305.9683,-21.5001 315.9683,-18 305.9683,-14.5001 305.9683,-21.5001\"/>\n</g>\n<!-- /outputs/14 -->\n<g id=\"node3\" class=\"node\">\n<title>/outputs/14</title>\n<polygon fill=\"#e8e8e8\" stroke=\"#000000\" points=\"506,-36 436,-36 436,0 506,0 506,-36\"/>\n<text text-anchor=\"start\" x=\"444\" y=\"-15\" font-family=\"Times\" font-size=\"10.00\" fill=\"#000000\">MaxPool2x2</text>\n</g>\n<!-- /outputs/15/16 -->\n<g id=\"node4\" class=\"node\">\n<title>/outputs/15/16</title>\n<polygon fill=\"#e8e8e8\" stroke=\"#000000\" points=\"596,-36 542,-36 542,0 596,0 596,-36\"/>\n<text text-anchor=\"start\" x=\"552\" y=\"-15\" font-family=\"Times\" font-size=\"10.00\" fill=\"#000000\">Dropout</text>\n</g>\n<!-- /outputs/14&#45;&gt;/outputs/15/16 -->\n<g id=\"edge2\" class=\"edge\">\n<title>/outputs/14&#45;&gt;/outputs/15/16</title>\n<path fill=\"none\" stroke=\"#000000\" d=\"M506.1034,-18C514.3675,-18 523.2064,-18 531.5686,-18\"/>\n<polygon fill=\"#000000\" stroke=\"#000000\" points=\"531.8266,-21.5001 541.8266,-18 531.8266,-14.5001 531.8266,-21.5001\"/>\n</g>\n<!-- /outputs/17 -->\n<g id=\"node5\" class=\"node\">\n<title>/outputs/17</title>\n<polygon fill=\"#e8e8e8\" stroke=\"#000000\" points=\"686,-36 632,-36 632,0 686,0 686,-36\"/>\n<text text-anchor=\"start\" x=\"645\" y=\"-15\" font-family=\"Times\" font-size=\"10.00\" fill=\"#000000\">Flatten</text>\n</g>\n<!-- /outputs/15/16&#45;&gt;/outputs/17 -->\n<g id=\"edge3\" class=\"edge\">\n<title>/outputs/15/16&#45;&gt;/outputs/17</title>\n<path fill=\"none\" stroke=\"#000000\" d=\"M596.003,-18C604.0277,-18 612.9665,-18 621.5309,-18\"/>\n<polygon fill=\"#000000\" stroke=\"#000000\" points=\"621.7051,-21.5001 631.705,-18 621.705,-14.5001 621.7051,-21.5001\"/>\n</g>\n<!-- /outputs/18 -->\n<g id=\"node6\" class=\"node\">\n<title>/outputs/18</title>\n<polygon fill=\"#e8e8e8\" stroke=\"#000000\" points=\"776,-36 722,-36 722,0 776,0 776,-36\"/>\n<text text-anchor=\"start\" x=\"736\" y=\"-15\" font-family=\"Times\" font-size=\"10.00\" fill=\"#000000\">Linear</text>\n</g>\n<!-- /outputs/17&#45;&gt;/outputs/18 -->\n<g id=\"edge4\" class=\"edge\">\n<title>/outputs/17&#45;&gt;/outputs/18</title>\n<path fill=\"none\" stroke=\"#000000\" d=\"M686.003,-18C694.0277,-18 702.9665,-18 711.5309,-18\"/>\n<polygon fill=\"#000000\" stroke=\"#000000\" points=\"711.7051,-21.5001 721.705,-18 711.705,-14.5001 711.7051,-21.5001\"/>\n</g>\n<!-- 2899142678938008715 -->\n<g id=\"node7\" class=\"node\">\n<title>2899142678938008715</title>\n<polygon fill=\"#e8e8e8\" stroke=\"#000000\" points=\"84,-36 0,-36 0,0 84,0 84,-36\"/>\n<text text-anchor=\"start\" x=\"8\" y=\"-15\" font-family=\"Times\" font-size=\"10.00\" fill=\"#000000\">Conv2x2 &gt; Relu</text>\n</g>\n<!-- 2899142678938008715&#45;&gt;/outputs/9 -->\n<g id=\"edge5\" class=\"edge\">\n<title>2899142678938008715&#45;&gt;/outputs/9</title>\n<path fill=\"none\" stroke=\"#000000\" d=\"M84.077,-18C92.4638,-18 101.305,-18 109.7918,-18\"/>\n<polygon fill=\"#000000\" stroke=\"#000000\" points=\"109.9138,-21.5001 119.9138,-18 109.9138,-14.5001 109.9138,-21.5001\"/>\n</g>\n<!-- 6221580927685953520&#45;&gt;/outputs/14 -->\n<g id=\"edge7\" class=\"edge\">\n<title>6221580927685953520&#45;&gt;/outputs/14</title>\n<path fill=\"none\" stroke=\"#000000\" d=\"M400.077,-18C408.4638,-18 417.305,-18 425.7918,-18\"/>\n<polygon fill=\"#000000\" stroke=\"#000000\" points=\"425.9138,-21.5001 435.9138,-18 425.9138,-14.5001 425.9138,-21.5001\"/>\n</g>\n</g>\n</svg>\n"
          },
          "metadata": {},
          "execution_count": 16
        }
      ]
    },
    {
      "cell_type": "code",
      "source": [
        "batch_size = 32\n",
        "\n",
        "train_ds = torch.utils.data.TensorDataset(torch.from_numpy(X_train).float(), torch.from_numpy(Y_train))\n",
        "train_dl = torch.utils.data.DataLoader(train_ds, batch_size=batch_size, shuffle=True)"
      ],
      "metadata": {
        "id": "5PXyeRxdcGjk"
      },
      "execution_count": 17,
      "outputs": []
    },
    {
      "cell_type": "code",
      "source": [
        "#--- Entrenamos la CNN\n",
        "\n",
        "from sklearn.metrics import f1_score\n",
        "\n",
        "n_epoch = 10\n",
        "\n",
        "history = hl.History()\n",
        "canvas = hl.Canvas()\n",
        "\n",
        "model.to(device)\n",
        "\n",
        "\n",
        "iter = 0\n",
        "\n",
        "for epoch in range(n_epoch):\n",
        "  for batch_id, (X_train_batch, Y_train_batch) in enumerate(train_dl):\n",
        "\n",
        "    #-- Cargamos los datos en la GPU\n",
        "    X_train_batch, Y_train_batch = X_train_batch.to(device), Y_train_batch.to(device)\n",
        "\n",
        "    model.train()\n",
        "    Xtr = X_train_batch.unsqueeze(1)\n",
        "    Y_pred = model(Xtr)\n",
        "\n",
        "    loss = criterion(Y_pred,Y_train_batch)\n",
        "\n",
        "    Y_pred = torch.argmax(Y_pred, 1)\n",
        "\n",
        "    #-- Calculamos el f1 en la cpu\n",
        "    f1 = f1_score(Y_train_batch.cpu(),Y_pred.cpu(), average='macro')\n",
        "\n",
        "    acc = sum(Y_train_batch == Y_pred)/len(Y_pred)\n",
        "\n",
        "    optimizer.zero_grad()\n",
        "    loss.backward()\n",
        "    optimizer.step()\n",
        "\n",
        "    iter += 1\n",
        "\n",
        "    if iter%10 == 0:\n",
        "        history.log((epoch+1, iter), loss=loss, accuracy=acc)\n",
        "        with canvas:\n",
        "          canvas.draw_plot(history[\"loss\"])\n",
        "          canvas.draw_plot(history[\"accuracy\"])"
      ],
      "metadata": {
        "colab": {
          "base_uri": "https://localhost:8080/",
          "height": 585
        },
        "id": "uCN4DxCocR7-",
        "outputId": "545f72af-44b9-4e2d-f63e-ade7e49be2e3"
      },
      "execution_count": 18,
      "outputs": [
        {
          "output_type": "display_data",
          "data": {
            "text/plain": [
              "<Figure size 864x576 with 2 Axes>"
            ],
            "image/png": "[encoded data removed]"
          },
          "metadata": {
            "needs_background": "light"
          }
        }
      ]
    },
    {
      "cell_type": "code",
      "source": [
        "#-- Validamos el modelo\n",
        "\n",
        "X_test_tensor, Y_test_tensor = torch.from_numpy(X_test).float().to(device), torch.from_numpy(Y_test).to(device)\n",
        "model.eval()\n",
        "Y_pred = model(X_test_tensor.unsqueeze(1))\n",
        "\n",
        "loss = criterion(Y_pred,Y_test_tensor)\n",
        "Y_pred = torch.argmax(Y_pred, 1)\n",
        "\n",
        "f1 = f1_score(Y_test_tensor.cpu(), Y_pred.cpu(), average='macro')\n",
        "\n",
        "acc = sum(Y_test_tensor == Y_pred)/len(Y_pred)\n",
        "\n",
        "print( 'Loss:{:.2f}, F1:{:.2f}, Acc:{:.2f}'.format(loss.item(), f1, acc ) )"
      ],
      "metadata": {
        "colab": {
          "base_uri": "https://localhost:8080/"
        },
        "id": "4DG61yOlcrqo",
        "outputId": "e181a7a7-8781-4620-fe75-e62fb0e6af39"
      },
      "execution_count": 19,
      "outputs": [
        {
          "output_type": "stream",
          "name": "stdout",
          "text": [
            "Loss:0.28, F1:0.95, Acc:0.95\n"
          ]
        }
      ]
    },
    {
      "cell_type": "code",
      "source": [
        "#-- Visualizamos los datos\n",
        "fig = plt.figure(figsize=(6,6))\n",
        "for i in range(4):\n",
        "    plt.subplot(2,2,i+1)\n",
        "    plt.imshow(X_test[i*15])\n",
        "    plt.title(f'Real: {Y_test[i*15]} , Model: { torch.argmax( model( torch.from_numpy( X_test[i*15] ).float().unsqueeze(0).unsqueeze(0).to(device) ), 1)   }')\n",
        "    plt.axis(False)\n",
        "plt.show()"
      ],
      "metadata": {
        "colab": {
          "base_uri": "https://localhost:8080/",
          "height": 373
        },
        "id": "Mx4keuEZdrm4",
        "outputId": "d8a01994-8783-4909-ca97-715987dbc22b"
      },
      "execution_count": 20,
      "outputs": [
        {
          "output_type": "display_data",
          "data": {
            "text/plain": [
              "<Figure size 432x432 with 4 Axes>"
            ],
            "image/png": "[encoded data removed]"
          },
          "metadata": {
            "needs_background": "light"
          }
        }
      ]
    },
    {
      "cell_type": "code",
      "source": [
        ""
      ],
      "metadata": {
        "id": "81IdVbfLplau"
      },
      "execution_count": 20,
      "outputs": []
    }
  ]
}