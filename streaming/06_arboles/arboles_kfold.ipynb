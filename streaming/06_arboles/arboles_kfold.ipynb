{
 "cells": [
  {
   "cell_type": "code",
   "execution_count": 1,
   "id": "a91e6487",
   "metadata": {},
   "outputs": [],
   "source": [
    "import numpy as np\n",
    "import matplotlib.pyplot as plt"
   ]
  },
  {
   "cell_type": "code",
   "execution_count": 2,
   "id": "01a31f82",
   "metadata": {},
   "outputs": [],
   "source": [
    "data = np.loadtxt(\"notas_andes.dat\")"
   ]
  },
  {
   "cell_type": "code",
   "execution_count": 3,
   "id": "57942131",
   "metadata": {},
   "outputs": [],
   "source": [
    "#Problema de Clasificación Binario\n",
    "target = np.ones(len(data))\n",
    "ii = data[:,4]<4.0\n",
    "target[ii] = 0 \n",
    "target[~ii] = 1"
   ]
  },
  {
   "cell_type": "code",
   "execution_count": 4,
   "id": "6941e995",
   "metadata": {},
   "outputs": [
    {
     "data": {
      "text/plain": [
       "(69, 4)"
      ]
     },
     "execution_count": 4,
     "metadata": {},
     "output_type": "execute_result"
    }
   ],
   "source": [
    "X = data[:,:4]\n",
    "np.shape(X)"
   ]
  },
  {
   "cell_type": "code",
   "execution_count": 5,
   "id": "efa68480",
   "metadata": {},
   "outputs": [],
   "source": [
    "import sklearn.tree\n",
    "from sklearn.model_selection import KFold"
   ]
  },
  {
   "cell_type": "markdown",
   "id": "bcbc917e",
   "metadata": {},
   "source": [
    "### 5-Fold\n",
    "<img src=\"https://www.askpython.com/wp-content/uploads/2020/11/5-Fold-Cross-Validation.jpg.webp\" style=\"height: 500px; width:800px;\"/>"
   ]
  },
  {
   "cell_type": "code",
   "execution_count": 6,
   "id": "cbc231a1",
   "metadata": {},
   "outputs": [
    {
     "data": {
      "text/plain": [
       "array([1., 2., 3., 4., 5.])"
      ]
     },
     "execution_count": 6,
     "metadata": {},
     "output_type": "execute_result"
    }
   ],
   "source": [
    "N = 5\n",
    "max_depths = np.linspace(1,N,N)\n",
    "max_depths"
   ]
  },
  {
   "cell_type": "code",
   "execution_count": 7,
   "id": "6b9d073b",
   "metadata": {
    "scrolled": false
   },
   "outputs": [
    {
     "name": "stdout",
     "output_type": "stream",
     "text": [
      "Train Index: [14 15 16 17 18 19 20 21 22 23 24 25 26 27 28 29 30 31 32 33 34 35 36 37\n",
      " 38 39 40 41 42 43 44 45 46 47 48 49 50 51 52 53 54 55 56 57 58 59 60 61\n",
      " 62 63 64 65 66 67 68] Test Index: [ 0  1  2  3  4  5  6  7  8  9 10 11 12 13] \n",
      "\n",
      "Train Index: [14 15 16 17 18 19 20 21 22 23 24 25 26 27 28 29 30 31 32 33 34 35 36 37\n",
      " 38 39 40 41 42 43 44 45 46 47 48 49 50 51 52 53 54 55 56 57 58 59 60 61\n",
      " 62 63 64 65 66 67 68] Test Index: [ 0  1  2  3  4  5  6  7  8  9 10 11 12 13] \n",
      "\n",
      "Train Index: [14 15 16 17 18 19 20 21 22 23 24 25 26 27 28 29 30 31 32 33 34 35 36 37\n",
      " 38 39 40 41 42 43 44 45 46 47 48 49 50 51 52 53 54 55 56 57 58 59 60 61\n",
      " 62 63 64 65 66 67 68] Test Index: [ 0  1  2  3  4  5  6  7  8  9 10 11 12 13] \n",
      "\n",
      "Train Index: [14 15 16 17 18 19 20 21 22 23 24 25 26 27 28 29 30 31 32 33 34 35 36 37\n",
      " 38 39 40 41 42 43 44 45 46 47 48 49 50 51 52 53 54 55 56 57 58 59 60 61\n",
      " 62 63 64 65 66 67 68] Test Index: [ 0  1  2  3  4  5  6  7  8  9 10 11 12 13] \n",
      "\n",
      "Train Index: [14 15 16 17 18 19 20 21 22 23 24 25 26 27 28 29 30 31 32 33 34 35 36 37\n",
      " 38 39 40 41 42 43 44 45 46 47 48 49 50 51 52 53 54 55 56 57 58 59 60 61\n",
      " 62 63 64 65 66 67 68] Test Index: [ 0  1  2  3  4  5  6  7  8  9 10 11 12 13] \n",
      "\n"
     ]
    }
   ],
   "source": [
    "Error_train = []\n",
    "Error_test = []\n",
    "\n",
    "for md in max_depths:\n",
    "    clf = sklearn.tree.DecisionTreeClassifier(max_depth=md)\n",
    "    kf = KFold(n_splits=5)\n",
    "    kf.get_n_splits(X)\n",
    "    \n",
    "    F1_train = []\n",
    "    F1_test = []\n",
    "    \n",
    "    k = 0\n",
    "    for train_index, test_index in kf.split(X):\n",
    "        if k==0: print(\"Train Index:\", train_index, \"Test Index:\", test_index, \"\\n\")\n",
    "        X_train, X_test = X[train_index], X[test_index]\n",
    "        target_train, target_test = target[train_index], target[test_index]\n",
    "        clf.fit(X_train, target_train)       \n",
    "        F1_train.append(sklearn.metrics.f1_score(target_train, clf.predict(X_train)))\n",
    "        F1_test.append(sklearn.metrics.f1_score(target_test, clf.predict(X_test)))\n",
    "        k +=1\n",
    "    \n",
    "    Error_train.append(np.average(F1_train))\n",
    "    Error_test.append(np.average(F1_test))"
   ]
  },
  {
   "cell_type": "code",
   "execution_count": 8,
   "id": "b0503da4",
   "metadata": {},
   "outputs": [
    {
     "data": {
      "image/png": "[encoded data removed]",
      "text/plain": [
       "<Figure size 576x576 with 1 Axes>"
      ]
     },
     "metadata": {
      "needs_background": "light"
     },
     "output_type": "display_data"
    }
   ],
   "source": [
    "fig = plt.figure(figsize=(8,8))\n",
    "plt.plot(Error_train, label=\"Train Error\")\n",
    "plt.plot(Error_test, label=\"Test Error\")\n",
    "plt.grid()\n",
    "plt.legend()\n",
    "plt.xlabel('Complejidad - max_depth')\n",
    "plt.ylabel('F1-score')\n",
    "plt.show()"
   ]
  },
  {
   "cell_type": "code",
   "execution_count": null,
   "id": "70ab49a1",
   "metadata": {},
   "outputs": [],
   "source": []
  }
 ],
 "metadata": {
  "kernelspec": {
   "display_name": "Python 3 (ipykernel)",
   "language": "python",
   "name": "python3"
  },
  "language_info": {
   "codemirror_mode": {
    "name": "ipython",
    "version": 3
   },
   "file_extension": ".py",
   "mimetype": "text/x-python",
   "name": "python",
   "nbconvert_exporter": "python",
   "pygments_lexer": "ipython3",
   "version": "3.9.7"
  }
 },
 "nbformat": 4,
 "nbformat_minor": 5
}
