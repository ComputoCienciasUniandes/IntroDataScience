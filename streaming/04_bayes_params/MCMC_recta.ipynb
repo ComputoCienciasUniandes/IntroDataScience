{
 "cells": [
  {
   "cell_type": "code",
   "execution_count": 8,
   "id": "4d88ab7f-f21d-4b5d-9d2d-1abbab4f4f0d",
   "metadata": {},
   "outputs": [],
   "source": [
    "import numpy as np\n",
    "import matplotlib.pyplot as plt"
   ]
  },
  {
   "cell_type": "code",
   "execution_count": 14,
   "id": "b564b8be-b1ac-4f6d-a3a2-b6a8c4765028",
   "metadata": {},
   "outputs": [],
   "source": [
    "data = np.loadtxt(\"datos_recta.dat\")\n",
    "x_obs = data[:,0]\n",
    "y_obs = data[:,1]\n",
    "sigma_obs = data[:,2]"
   ]
  },
  {
   "cell_type": "code",
   "execution_count": 15,
   "id": "c0c884aa-33d0-4f15-9e1e-751e50e21797",
   "metadata": {},
   "outputs": [
    {
     "data": {
      "text/plain": [
       "<ErrorbarContainer object of 3 artists>"
      ]
     },
     "execution_count": 15,
     "metadata": {},
     "output_type": "execute_result"
    },
    {
     "data": {
      "image/png": "[encoded data removed]",
      "text/plain": [
       "<Figure size 432x288 with 1 Axes>"
      ]
     },
     "metadata": {
      "needs_background": "light"
     },
     "output_type": "display_data"
    }
   ],
   "source": [
    "plt.errorbar(data[:,0], data[:,1], data[:,2], fmt='o')"
   ]
  },
  {
   "cell_type": "markdown",
   "id": "318a16fd-609b-4d40-81c9-722b614ae404",
   "metadata": {},
   "source": [
    "P(parametros|obs) aprox P(obs|parametros)\n",
    "\n",
    "P(m,b | obs) aprox P(obs | m,b)"
   ]
  },
  {
   "cell_type": "code",
   "execution_count": 11,
   "id": "33612838-df1d-4dad-9a5d-f47d1a1968a2",
   "metadata": {},
   "outputs": [],
   "source": [
    "def modelo(x_obs, m, b):\n",
    "    return (x_obs * m) + b"
   ]
  },
  {
   "cell_type": "code",
   "execution_count": 20,
   "id": "ca6c05d2-8fe5-4dfb-aa26-dbcb3610a354",
   "metadata": {},
   "outputs": [],
   "source": [
    "def loglikelihood(x_obs, y_obs, sigma_obs, m, b):\n",
    "    y_modelo = modelo(x_obs, m, b)\n",
    "    x = np.sum((y_modelo - y_obs)/sigma_obs)\n",
    "    return -0.5*x**2"
   ]
  },
  {
   "cell_type": "code",
   "execution_count": 45,
   "id": "7a1797f1-b7f6-4408-9607-798d58955618",
   "metadata": {},
   "outputs": [
    {
     "name": "stderr",
     "output_type": "stream",
     "text": [
      "/srv/conda/envs/notebook/lib/python3.7/site-packages/ipykernel_launcher.py:12: RuntimeWarning: overflow encountered in exp\n",
      "  if sys.path[0] == '':\n"
     ]
    }
   ],
   "source": [
    "n_iteraciones = 100000\n",
    "m_walk = np.zeros(n_iteraciones)\n",
    "b_walk = np.zeros(n_iteraciones)\n",
    "\n",
    "for i in range(1,n_iteraciones):\n",
    "    m_prime = np.random.normal(m_walk[i-1],0.1)\n",
    "    b_prime = np.random.normal(b_walk[i-1],0.1)\n",
    "    \n",
    "    l_now = loglikelihood(x_obs, y_obs, sigma_obs, m_walk[i-1], b_walk[i-1])\n",
    "    l_next = loglikelihood(x_obs, y_obs, sigma_obs, m_prime, b_prime)\n",
    "    #print(l_now, l_next)\n",
    "    gamma = np.min([1.0, np.exp(l_next-l_now)])\n",
    "    #print(gamma)\n",
    "    \n",
    "    alpha = np.random.random()\n",
    "    if alpha<gamma:\n",
    "        m_walk[i] = m_prime\n",
    "        b_walk[i] = b_prime\n",
    "    else:\n",
    "        m_walk[i] = m_walk[i-1]\n",
    "        b_walk[i] = b_walk[i-1]"
   ]
  },
  {
   "cell_type": "code",
   "execution_count": 46,
   "id": "7f3201dd-7a57-4517-8946-1af2170df92f",
   "metadata": {},
   "outputs": [
    {
     "data": {
      "text/plain": [
       "<matplotlib.collections.PathCollection at 0x7f8294b3e610>"
      ]
     },
     "execution_count": 46,
     "metadata": {},
     "output_type": "execute_result"
    },
    {
     "data": {
      "image/png": "[encoded data removed]",
      "text/plain": [
       "<Figure size 432x288 with 1 Axes>"
      ]
     },
     "metadata": {
      "needs_background": "light"
     },
     "output_type": "display_data"
    }
   ],
   "source": [
    "plt.scatter(m_walk, b_walk)"
   ]
  },
  {
   "cell_type": "code",
   "execution_count": 47,
   "id": "3a324770-d438-481d-9e4b-8aafbd8d9cc6",
   "metadata": {},
   "outputs": [
    {
     "data": {
      "image/png": "[encoded data removed]",
      "text/plain": [
       "<Figure size 432x288 with 1 Axes>"
      ]
     },
     "metadata": {
      "needs_background": "light"
     },
     "output_type": "display_data"
    }
   ],
   "source": [
    "_ = plt.hist(m_walk)"
   ]
  },
  {
   "cell_type": "code",
   "execution_count": 48,
   "id": "d8e52fad-3e80-4668-a690-f9685c92fd7f",
   "metadata": {},
   "outputs": [
    {
     "data": {
      "image/png": "[encoded data removed]",
      "text/plain": [
       "<Figure size 432x288 with 1 Axes>"
      ]
     },
     "metadata": {
      "needs_background": "light"
     },
     "output_type": "display_data"
    }
   ],
   "source": [
    "_ = plt.hist(b_walk)"
   ]
  },
  {
   "cell_type": "code",
   "execution_count": 49,
   "id": "666fee0d-eb59-410e-8a0a-176243ed9084",
   "metadata": {},
   "outputs": [
    {
     "name": "stdout",
     "output_type": "stream",
     "text": [
      "1.4818250294508535 1.1780797659962439\n"
     ]
    }
   ],
   "source": [
    "m_best = np.mean(m_walk)\n",
    "m_error = np.std(m_walk)\n",
    "print(m_best, m_error)"
   ]
  },
  {
   "cell_type": "code",
   "execution_count": 50,
   "id": "6de35ae9-f590-425e-b461-78dbcda506ff",
   "metadata": {},
   "outputs": [
    {
     "name": "stdout",
     "output_type": "stream",
     "text": [
      "0.4886122543810464 0.19061820814029262\n"
     ]
    }
   ],
   "source": [
    "b_best = np.mean(b_walk)\n",
    "b_error = np.std(b_walk)\n",
    "print(b_best, b_error)"
   ]
  },
  {
   "cell_type": "code",
   "execution_count": 51,
   "id": "b39e5f00-555a-455a-9645-ead38b766d6f",
   "metadata": {},
   "outputs": [],
   "source": [
    "x_teorico = np.linspace(x_obs.min(), x_obs.max(),100)\n",
    "y_teorico = modelo(x_teorico, m_best, b_best)"
   ]
  },
  {
   "cell_type": "code",
   "execution_count": 53,
   "id": "60a10b62-6a7b-4540-b6d3-16ca8aa9c2c3",
   "metadata": {},
   "outputs": [
    {
     "data": {
      "text/plain": [
       "[<matplotlib.lines.Line2D at 0x7f8294da2790>]"
      ]
     },
     "execution_count": 53,
     "metadata": {},
     "output_type": "execute_result"
    },
    {
     "data": {
      "image/png": "[encoded data removed]",
      "text/plain": [
       "<Figure size 432x288 with 1 Axes>"
      ]
     },
     "metadata": {
      "needs_background": "light"
     },
     "output_type": "display_data"
    }
   ],
   "source": [
    "plt.errorbar(data[:,0], data[:,1], data[:,2], fmt='o')\n",
    "plt.plot(x_teorico, y_teorico)"
   ]
  },
  {
   "cell_type": "code",
   "execution_count": null,
   "id": "814d784e-d4e5-40a9-b091-0f81d67dbd18",
   "metadata": {},
   "outputs": [],
   "source": []
  }
 ],
 "metadata": {
  "kernelspec": {
   "display_name": "Python 3 (ipykernel)",
   "language": "python",
   "name": "python3"
  },
  "language_info": {
   "codemirror_mode": {
    "name": "ipython",
    "version": 3
   },
   "file_extension": ".py",
   "mimetype": "text/x-python",
   "name": "python",
   "nbconvert_exporter": "python",
   "pygments_lexer": "ipython3",
   "version": "3.7.12"
  }
 },
 "nbformat": 4,
 "nbformat_minor": 5
}
