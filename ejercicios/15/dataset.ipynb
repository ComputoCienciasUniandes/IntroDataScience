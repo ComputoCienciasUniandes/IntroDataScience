{
 "cells": [
  {
   "cell_type": "code",
   "execution_count": 1,
   "metadata": {},
   "outputs": [],
   "source": [
    "import numpy as np\n",
    "import pandas as pd\n",
    "import matplotlib.pyplot as plt\n",
    "from pandas.plotting import scatter_matrix\n",
    "\n",
    "%matplotlib inline"
   ]
  },
  {
   "cell_type": "markdown",
   "metadata": {},
   "source": [
    "Descripción de los datos\n",
    "https://vincentarelbundock.github.io/Rdatasets/doc/ISLR/OJ.html"
   ]
  },
  {
   "cell_type": "code",
   "execution_count": 3,
   "metadata": {},
   "outputs": [
    {
     "name": "stdout",
     "output_type": "stream",
     "text": [
      "['WeekofPurchase', 'StoreID', 'PriceCH', 'PriceMM', 'DiscCH', 'DiscMM', 'SpecialCH', 'SpecialMM', 'LoyalCH', 'SalePriceMM', 'SalePriceCH', 'PriceDiff', 'ListPriceDiff', 'STORE']\n"
     ]
    }
   ],
   "source": [
    "# Carga datos\n",
    "data = pd.read_csv('OJ.csv')\n",
    "\n",
    "# Remueve datos que no se van a utilizar\n",
    "data = data.drop(['Store7', 'PctDiscCH','PctDiscMM'],axis=1)\n",
    "\n",
    "# Crea un nuevo array que sera el target, 0 si MM, 1 si CH\n",
    "purchasebin = np.ones(len(data), dtype=int)\n",
    "ii = np.array(data['Purchase']=='MM')\n",
    "purchasebin[ii] = 0\n",
    "\n",
    "data['Target'] = purchasebin\n",
    "\n",
    "# Borra la columna Purchase\n",
    "data = data.drop(['Purchase'],axis=1)\n",
    "\n",
    "# Crea un dataframe con los predictores\n",
    "predictors = list(data.keys())\n",
    "predictors.remove('Target')\n",
    "predictors.remove('Unnamed: 0')\n",
    "print(predictors)\n"
   ]
  },
  {
   "cell_type": "code",
   "execution_count": null,
   "metadata": {},
   "outputs": [],
   "source": [
    "# Grafica con todos los predictores\n",
    "_ = scatter_matrix(data[predictors], alpha=0.2, figsize=(15, 15), diagonal='kde')"
   ]
  },
  {
   "cell_type": "code",
   "execution_count": null,
   "metadata": {},
   "outputs": [],
   "source": []
  }
 ],
 "metadata": {
  "kernelspec": {
   "display_name": "Python 3",
   "language": "python",
   "name": "python3"
  },
  "language_info": {
   "codemirror_mode": {
    "name": "ipython",
    "version": 3
   },
   "file_extension": ".py",
   "mimetype": "text/x-python",
   "name": "python",
   "nbconvert_exporter": "python",
   "pygments_lexer": "ipython3",
   "version": "3.6.8"
  }
 },
 "nbformat": 4,
 "nbformat_minor": 2
}
